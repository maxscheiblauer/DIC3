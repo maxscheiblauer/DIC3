{
 "cells": [
  {
   "cell_type": "code",
   "execution_count": 14,
   "metadata": {},
   "outputs": [],
   "source": [
    "import tensorflow as tf\n",
    "import tensorflow_hub as hub\n",
    "from PIL import Image\n",
    "from PIL import ImageDraw\n",
    "import os\n",
    "import detect\n",
    "#import tflite as tf\n",
    "import platform\n",
    "import datetime\n",
    "import cv2\n",
    "import time\n",
    "import numpy as np\n",
    "import io\n",
    "from io import BytesIO\n",
    "from flask import Flask, request, Response, jsonify\n",
    "import random\n",
    "import re\n",
    "import base64\n",
    "import matplotlib.pyplot as plt"
   ]
  },
  {
   "cell_type": "code",
   "execution_count": 15,
   "metadata": {},
   "outputs": [],
   "source": [
    "def display_image(image):\n",
    "  fig = plt.figure(figsize=(20, 15))\n",
    "  plt.grid(False)\n",
    "  plt.imshow(image)"
   ]
  },
  {
   "cell_type": "code",
   "execution_count": 3,
   "metadata": {},
   "outputs": [
    {
     "name": "stdout",
     "output_type": "stream",
     "text": [
      "296\n"
     ]
    }
   ],
   "source": [
    "folder_path = r'C:\\Users\\maxsc\\Desktop\\TU\\DIC3\\Pictures_small'\n",
    "images_s = []\n",
    "\n",
    "# Iterate over each file in the folder\n",
    "for filename in os.listdir(folder_path):\n",
    "    # Construct the full file path\n",
    "    file_path = os.path.join(folder_path, filename)\n",
    "\n",
    "    # Check if the file is a JPEG image\n",
    "    if os.path.isfile(file_path) and filename.lower().endswith(\".jpg\"):\n",
    "        with open(file_path, \"rb\") as file:\n",
    "            # Read the image data\n",
    "            image_data = file.read()\n",
    "\n",
    "            # Encode the image data as base64\n",
    "            encoded_data = base64.b64encode(image_data).decode(\"utf-8\")\n",
    "\n",
    "            # Append the encoded string to the list\n",
    "            images_s.append(encoded_data)\n",
    "\n",
    "print(len(images_s))\n"
   ]
  },
  {
   "cell_type": "code",
   "execution_count": 6,
   "metadata": {},
   "outputs": [
    {
     "data": {
      "text/plain": [
       "296"
      ]
     },
     "execution_count": 6,
     "metadata": {},
     "output_type": "execute_result"
    }
   ],
   "source": [
    "#Preprocess ONE image\n",
    "\n",
    "\n",
    "#example = images_s[32]\n",
    "\n",
    "#image_bytes = base64.b64decode(example)\n",
    "#image = Image.open(io.BytesIO(image_bytes))\n",
    "#image = image.resize((300, 300))  # Resize to match the model's input size\n",
    "#image_np = np.array(image).astype(np.float32)  # Convert PIL image to NumPy array\n",
    "\n",
    "#image_np_expanded = np.expand_dims(image_np, axis=0)\n",
    "#image_np = image_np.astype(np.float32)\n",
    "#image_np = np.expand_dims(image_np, axis=0)\n",
    "imgs = []\n",
    "\n",
    "for i in images_s:\n",
    "    image_bytes = base64.b64decode(i)\n",
    "    image = Image.open(io.BytesIO(image_bytes))\n",
    "    image = image.resize((300, 300))  # Resize to match the model's input size\n",
    "    image_np = np.array(image).astype(np.float32)  # Convert PIL image to NumPy array\n",
    "    imgs.append(image_np)\n",
    "\n",
    "\n",
    "len(imgs)"
   ]
  },
  {
   "cell_type": "code",
   "execution_count": 4,
   "metadata": {},
   "outputs": [
    {
     "name": "stdout",
     "output_type": "stream",
     "text": [
      "INFO:tensorflow:Saver not created because there are no variables in the graph to restore\n"
     ]
    },
    {
     "name": "stderr",
     "output_type": "stream",
     "text": [
      "INFO:tensorflow:Saver not created because there are no variables in the graph to restore\n"
     ]
    }
   ],
   "source": [
    "#Load detector model\n",
    "\n",
    "model_path = r\"https://tfhub.dev/google/faster_rcnn/openimages_v4/inception_resnet_v2/1\"\n",
    "detector = hub.load(model_path).signatures['default']\n",
    "\n",
    "\n",
    "#IGNORE THIS PART\n",
    "#interpreter = tf.lite.Interpreter(model_path=model_path)\n",
    "#interpreter.allocate_tensors()\n",
    "\n",
    "#Example image\n",
    "#input_tensor = interpreter.get_input_details()[0]['index']\n",
    "#interpreter.set_tensor(input_tensor, image_np)\n",
    "\n",
    "#interpreter.invoke()\n",
    "\n",
    "\n",
    "\n"
   ]
  },
  {
   "cell_type": "code",
   "execution_count": 17,
   "metadata": {},
   "outputs": [
    {
     "name": "stdout",
     "output_type": "stream",
     "text": [
      "Found 100 objects.\n",
      "Inference time:  23.94186234474182\n"
     ]
    }
   ],
   "source": [
    "#CODE TO DO OBJECT DETECTION ON ONE IMAGE\n",
    "img_nr = 15\n",
    "\n",
    "\n",
    "converted_img  = tf.image.convert_image_dtype(imgs[img_nr], tf.float32)[tf.newaxis, ...]\n",
    "\n",
    "start_time = time.time()\n",
    "result = detector(converted_img)\n",
    "end_time = time.time()\n",
    "result = {key:value.numpy() for key,value in result.items()}\n",
    "\n",
    "print(\"Found %d objects.\" % len(result[\"detection_scores\"]))\n",
    "print(\"Inference time: \", end_time-start_time)"
   ]
  },
  {
   "cell_type": "code",
   "execution_count": 22,
   "metadata": {},
   "outputs": [
    {
     "name": "stdout",
     "output_type": "stream",
     "text": [
      "{'detection_scores': array([7.01407942e-12, 3.45063214e-12, 8.85596934e-14, 1.79046299e-14,\n",
      "       7.82391893e-16, 6.97404471e-16, 3.16803001e-16, 1.70236682e-17,\n",
      "       5.30380764e-18, 4.05087996e-21, 1.58659562e-21, 3.19804817e-22,\n",
      "       1.41011348e-22, 1.39623937e-22, 9.34359799e-23, 6.45444289e-23,\n",
      "       6.06322318e-24, 5.61437118e-24, 4.95474108e-24, 4.22651951e-24,\n",
      "       2.05510040e-24, 2.04983889e-24, 8.82385197e-25, 4.39902565e-25,\n",
      "       3.30046658e-25, 3.27428256e-25, 3.23558055e-25, 2.37537851e-25,\n",
      "       2.18373166e-25, 2.12021406e-25, 1.85926405e-25, 1.85059595e-25,\n",
      "       1.40433524e-25, 1.14142466e-25, 1.06583404e-25, 9.88634937e-26,\n",
      "       8.30775550e-26, 8.29901332e-26, 7.78283082e-26, 6.12024298e-26,\n",
      "       6.05734488e-26, 5.35005589e-26, 4.29297458e-26, 3.98715446e-26,\n",
      "       3.56911642e-26, 3.37744449e-26, 2.73552402e-26, 2.64800515e-26,\n",
      "       1.91321819e-26, 1.74612297e-26, 1.61004061e-26, 1.42042772e-26,\n",
      "       1.40873425e-26, 1.33942234e-26, 1.29355593e-26, 1.16990599e-26,\n",
      "       1.12730866e-26, 9.90370801e-27, 9.47397064e-27, 9.31649351e-27,\n",
      "       9.11659046e-27, 8.93541823e-27, 8.60435858e-27, 7.88671317e-27,\n",
      "       7.63348651e-27, 7.45398367e-27, 7.16905543e-27, 5.19360521e-27,\n",
      "       5.11462706e-27, 4.77467307e-27, 4.77172332e-27, 4.23965705e-27,\n",
      "       4.17668261e-27, 3.91304784e-27, 3.71011684e-27, 3.58471068e-27,\n",
      "       3.21213703e-27, 2.93230287e-27, 2.65241133e-27, 2.08111541e-27,\n",
      "       2.07451274e-27, 1.97470239e-27, 1.82484559e-27, 1.70227382e-27,\n",
      "       1.66522740e-27, 1.60379332e-27, 1.57579386e-27, 1.55297400e-27,\n",
      "       1.41775272e-27, 1.36448005e-27, 1.36196315e-27, 1.28250496e-27,\n",
      "       1.25791498e-27, 1.24104220e-27, 1.17818639e-27, 1.17726089e-27,\n",
      "       1.14831069e-27, 1.12185987e-27, 1.10989426e-27, 1.09770033e-27],\n",
      "      dtype=float32), 'detection_class_names': array([b'/m/01g317', b'/m/01g317', b'/m/01g317', b'/m/04yx4', b'/m/07j7r',\n",
      "       b'/m/03bt1vf', b'/m/07j7r', b'/m/04yx4', b'/m/04yx4', b'/m/01_bhs',\n",
      "       b'/m/04rky', b'/m/01rkbr', b'/m/03q69', b'/m/02p0tk3', b'/m/05s2s',\n",
      "       b'/m/0k4j', b'/m/01g317', b'/m/05y5lj', b'/m/0d4v4', b'/m/0dzf4',\n",
      "       b'/m/0dtln', b'/m/0cmf2', b'/m/026t6', b'/m/01mzpv', b'/m/03xxp',\n",
      "       b'/m/018xm', b'/m/07pj7bq', b'/m/0199g', b'/m/02wmf', b'/m/0bt_c3',\n",
      "       b'/m/019jd', b'/m/01llwg', b'/m/05r655', b'/m/050k8',\n",
      "       b'/m/04dr76w', b'/m/0hnnb', b'/m/03fp41', b'/m/02rdsp',\n",
      "       b'/m/033rq4', b'/m/04rky', b'/m/021sj1', b'/m/054_l',\n",
      "       b'/m/0h99cwc', b'/m/06msq', b'/m/01g317', b'/m/01n4qj',\n",
      "       b'/m/04rky', b'/m/0ph39', b'/m/03120', b'/m/07j7r', b'/m/04_sv',\n",
      "       b'/m/01599', b'/m/01lrl', b'/m/02dl1y', b'/m/0dv5r', b'/m/035r7c',\n",
      "       b'/m/01j61q', b'/m/015p6', b'/m/0130jx', b'/m/015h_t',\n",
      "       b'/m/0463sg', b'/m/0k4j', b'/m/01rzcn', b'/m/0d5gx', b'/m/01xq0k1',\n",
      "       b'/m/02wbm', b'/m/083kb', b'/m/0cyf8', b'/m/0dftk', b'/m/01n5jq',\n",
      "       b'/m/03__z0', b'/m/014y4n', b'/m/01rkbr', b'/m/080hkjn',\n",
      "       b'/m/09tvcd', b'/m/01g317', b'/m/0c9ph5', b'/m/01j4z9',\n",
      "       b'/m/025dyy', b'/m/0gm28', b'/m/0d4w1', b'/m/018j2', b'/m/0k4j',\n",
      "       b'/m/032b3c', b'/m/07r04', b'/m/04hgtk', b'/m/0d8zb', b'/m/01xgg_',\n",
      "       b'/m/08p92x', b'/m/09qck', b'/m/04szw', b'/m/02jvh9', b'/m/01y9k5',\n",
      "       b'/m/02zt3', b'/m/0dv77', b'/m/0d4v4', b'/m/076lb9', b'/m/0fbdv',\n",
      "       b'/m/0hg7b', b'/m/02x8cch'], dtype=object), 'detection_class_entities': array([b'Person', b'Person', b'Person', b'Man', b'Tree', b'Woman',\n",
      "       b'Tree', b'Man', b'Man', b'Fast food', b'Mammal', b'Tie',\n",
      "       b'Human hair', b'Human body', b'Plant', b'Car', b'Person',\n",
      "       b'Sports equipment', b'Window', b'Human arm', b'Lamp', b'Airplane',\n",
      "       b'Drum', b'Chair', b'Invertebrate', b'Ball', b'Bowling equipment',\n",
      "       b'Bicycle', b'Flying disc', b'Book', b'Boat', b'Necklace', b'Girl',\n",
      "       b'Mobile phone', b'Bottle', b'Umbrella', b'Houseplant',\n",
      "       b'Office supplies', b'Street light', b'Mammal', b'Office building',\n",
      "       b'Mirror', b'Kitchen appliance', b'Sculpture', b'Person', b'Shirt',\n",
      "       b'Mammal', b'Canoe', b'Flag', b'Tree', b'Motorcycle', b'Beer',\n",
      "       b'Carnivore', b'Hat', b'Camera', b'Human leg', b'Tent', b'Bird',\n",
      "       b'Sink', b'Human beard', b'Fashion accessory', b'Car',\n",
      "       b'Watercraft', b'Castle', b'Cattle', b'Food', b'Weapon',\n",
      "       b'Butterfly', b'Swan', b'Poster', b'Bookcase', b'Paddle', b'Tie',\n",
      "       b'Handbag', b'Wine glass', b'Person', b'Flower', b'Chainsaw',\n",
      "       b'Box', b'Candy', b'Closet', b'Banjo', b'Car', b'Jacket', b'Truck',\n",
      "       b'Human head', b'Jellyfish', b'Medical equipment', b'Cream',\n",
      "       b'Banana', b'Musical instrument', b'Mug', b'Desk', b'Kite',\n",
      "       b'Squash', b'Window', b'Training bench', b'Shellfish',\n",
      "       b'Microphone', b'Salt and pepper shakers'], dtype=object), 'detection_boxes': array([[0.8073674 , 0.9898166 , 1.        , 1.        ],\n",
      "       [0.90402   , 0.910429  , 1.        , 1.        ],\n",
      "       [0.9503397 , 0.9572257 , 1.        , 1.        ],\n",
      "       [0.7534038 , 0.99022484, 0.9854116 , 0.9977641 ],\n",
      "       [0.8717098 , 0.9901683 , 0.925588  , 1.        ],\n",
      "       [0.8478133 , 0.99461234, 1.        , 1.        ],\n",
      "       [0.89702153, 0.95712435, 0.959928  , 1.        ],\n",
      "       [0.89711344, 0.9625516 , 1.        , 0.9959354 ],\n",
      "       [0.8264243 , 0.9237375 , 0.9958156 , 1.        ],\n",
      "       [0.66828746, 0.9884008 , 0.8390425 , 1.        ],\n",
      "       [0.6100488 , 0.9966663 , 0.9940369 , 0.998536  ],\n",
      "       [0.7152308 , 0.9912827 , 1.        , 1.        ],\n",
      "       [0.7202695 , 0.992376  , 0.7702832 , 0.9994374 ],\n",
      "       [0.63442075, 0.98998517, 1.        , 0.99564576],\n",
      "       [0.8934069 , 0.989307  , 1.        , 0.99631095],\n",
      "       [0.67557037, 0.979997  , 0.94569075, 1.        ],\n",
      "       [0.81607467, 0.92612386, 0.95635766, 0.956967  ],\n",
      "       [0.80130905, 0.9938353 , 0.95488834, 0.998463  ],\n",
      "       [0.75615263, 0.9918038 , 0.8684528 , 0.9981836 ],\n",
      "       [0.80272496, 0.99558026, 1.        , 1.        ],\n",
      "       [0.74337476, 0.98023176, 0.86074585, 1.        ],\n",
      "       [0.4800019 , 0.99234426, 0.8274944 , 0.9976513 ],\n",
      "       [0.957687  , 0.9938416 , 1.        , 0.9965007 ],\n",
      "       [0.7211862 , 0.9950403 , 0.87624496, 0.99994934],\n",
      "       [0.82219225, 0.9982007 , 1.        , 1.        ],\n",
      "       [0.71801513, 0.9982456 , 0.8423044 , 1.        ],\n",
      "       [0.8524145 , 0.9934151 , 0.96825045, 1.        ],\n",
      "       [0.88520336, 0.9839758 , 0.99204355, 0.99531233],\n",
      "       [0.5938007 , 0.9945193 , 1.        , 1.        ],\n",
      "       [0.49617717, 0.9943142 , 0.94423157, 0.9991305 ],\n",
      "       [0.7173808 , 0.9908487 , 1.        , 0.99784905],\n",
      "       [0.89218587, 0.99448466, 0.9782385 , 0.9960006 ],\n",
      "       [0.67069256, 0.99243104, 1.        , 1.        ],\n",
      "       [0.8420021 , 0.9862601 , 0.979014  , 0.99894464],\n",
      "       [0.83195573, 0.9926927 , 0.97001266, 0.9971507 ],\n",
      "       [0.7350442 , 0.9862024 , 0.94328755, 1.        ],\n",
      "       [0.6861419 , 0.9882169 , 0.9412467 , 0.99744827],\n",
      "       [0.78706855, 0.9920505 , 0.98879397, 0.9964676 ],\n",
      "       [0.6120338 , 0.9931377 , 1.        , 0.99638623],\n",
      "       [0.8668532 , 0.9956524 , 1.        , 1.        ],\n",
      "       [0.21664348, 0.9312262 , 1.        , 1.        ],\n",
      "       [0.47267717, 0.99197596, 0.880421  , 0.9978512 ],\n",
      "       [0.8012151 , 0.9948255 , 1.        , 1.        ],\n",
      "       [0.57822454, 0.9895978 , 1.        , 0.996119  ],\n",
      "       [0.818034  , 0.9129218 , 1.        , 0.9504702 ],\n",
      "       [0.710594  , 0.9932828 , 0.9200457 , 0.99755424],\n",
      "       [0.8100894 , 0.99579114, 0.93751174, 1.        ],\n",
      "       [0.67775565, 0.99432445, 0.9811205 , 0.9997503 ],\n",
      "       [0.776972  , 0.99514425, 0.89364994, 0.99837506],\n",
      "       [0.9830945 , 0.84182495, 1.        , 1.        ],\n",
      "       [0.77522933, 0.990052  , 1.        , 0.99829376],\n",
      "       [0.73645514, 0.98671705, 1.        , 0.99735993],\n",
      "       [0.49067628, 0.99439234, 0.97077316, 1.        ],\n",
      "       [0.9916553 , 0.99272054, 1.        , 0.99616724],\n",
      "       [0.7973424 , 0.9915188 , 0.94142985, 0.99846965],\n",
      "       [0.4917537 , 0.9928443 , 1.        , 0.9942755 ],\n",
      "       [0.6778092 , 0.9934305 , 0.80178785, 1.        ],\n",
      "       [0.78408825, 0.9914025 , 1.        , 0.99867404],\n",
      "       [0.5623297 , 0.9938018 , 0.95707804, 1.        ],\n",
      "       [0.8374498 , 0.9916962 , 0.908476  , 0.99327904],\n",
      "       [0.83157897, 0.9873049 , 0.92153883, 1.        ],\n",
      "       [0.8775411 , 0.9318627 , 0.9841563 , 1.        ],\n",
      "       [0.45831367, 0.9884188 , 1.        , 1.        ],\n",
      "       [0.4478959 , 0.9960058 , 1.        , 1.        ],\n",
      "       [0.7688228 , 0.9959732 , 1.        , 1.        ],\n",
      "       [0.62834764, 0.99140894, 0.8081866 , 0.99714136],\n",
      "       [0.62975216, 0.9892787 , 1.        , 0.9930071 ],\n",
      "       [0.764767  , 0.9869556 , 0.83226603, 1.        ],\n",
      "       [0.684615  , 0.9849479 , 0.7986225 , 1.        ],\n",
      "       [0.5024676 , 0.98304343, 1.        , 1.        ],\n",
      "       [0.698666  , 0.92858887, 1.        , 1.        ],\n",
      "       [0.8360449 , 0.99408126, 0.9924309 , 1.        ],\n",
      "       [0.8828758 , 0.95940155, 1.        , 1.        ],\n",
      "       [0.67472357, 0.98877925, 0.9572863 , 1.        ],\n",
      "       [0.768863  , 0.9900324 , 0.9286113 , 1.        ],\n",
      "       [0.840648  , 0.9108647 , 0.9388316 , 0.9572272 ],\n",
      "       [0.7957247 , 0.9901876 , 0.9591974 , 0.9994509 ],\n",
      "       [0.8179534 , 0.9958107 , 0.9317018 , 0.9977935 ],\n",
      "       [0.785014  , 0.9960022 , 0.9841111 , 1.        ],\n",
      "       [0.7093875 , 0.98937494, 0.7634939 , 1.        ],\n",
      "       [0.7966687 , 0.9904035 , 0.9818791 , 1.        ],\n",
      "       [0.67628604, 0.9923565 , 1.        , 1.        ],\n",
      "       [0.78256047, 0.7822314 , 0.8841865 , 1.        ],\n",
      "       [0.9066864 , 0.9890541 , 1.        , 0.9963685 ],\n",
      "       [0.9906874 , 0.9891455 , 1.        , 1.        ],\n",
      "       [0.6728893 , 0.99468577, 0.80477846, 0.9966139 ],\n",
      "       [0.8759307 , 0.99514943, 0.9513089 , 0.9969093 ],\n",
      "       [0.6531699 , 0.9936732 , 1.        , 0.9965695 ],\n",
      "       [0.54730785, 0.9955168 , 0.84728426, 1.        ],\n",
      "       [0.7797802 , 0.99415296, 0.92717564, 0.9969278 ],\n",
      "       [0.7001474 , 0.99492955, 0.93459433, 1.        ],\n",
      "       [0.71580774, 0.99211293, 0.80968153, 0.9974993 ],\n",
      "       [0.6916086 , 0.9954507 , 0.91959393, 1.        ],\n",
      "       [0.9352815 , 0.98893493, 1.        , 0.99833906],\n",
      "       [0.728678  , 0.99049675, 0.9164663 , 0.9984423 ],\n",
      "       [0.97006005, 0.9579499 , 1.        , 0.99796265],\n",
      "       [0.7077577 , 0.99442834, 1.        , 1.        ],\n",
      "       [0.81029093, 0.99072623, 1.        , 0.9997682 ],\n",
      "       [0.71640044, 0.99417806, 0.9576707 , 0.9974339 ],\n",
      "       [0.96422344, 0.99044496, 1.        , 1.        ]], dtype=float32), 'detection_class_labels': array([ 69,  69,  69, 308, 391, 228, 391, 308, 308,  49, 298, 105, 253,\n",
      "       177, 334, 571,  69, 337, 485, 503, 498, 468, 142,  97, 267,  38,\n",
      "       398,  40, 196, 447,  43,  90, 333, 313, 286, 557, 233, 184, 218,\n",
      "       298, 130, 318, 551, 359,  69,  98, 298, 595, 211, 391, 300,  19,\n",
      "        91, 161, 499, 221,  82,  22,  10,  21, 277, 571, 106, 487, 115,\n",
      "       193, 408, 479, 491,  99, 269,  17, 105, 405, 441,  69, 456,  79,\n",
      "       136, 530, 486,  36, 571, 216, 400, 292, 488, 114, 417, 439, 301,\n",
      "       171, 121, 207, 500, 485, 376, 510, 555, 199], dtype=int64)}\n"
     ]
    }
   ],
   "source": [
    "print(result)"
   ]
  },
  {
   "cell_type": "code",
   "execution_count": null,
   "metadata": {},
   "outputs": [],
   "source": [
    "def draw_boxes(image, boxes, class_names, scores, max_boxes=10, min_score=0.1):\n",
    "  \"\"\"Overlay labeled boxes on an image with formatted scores and label names.\"\"\"\n",
    "\n",
    "\n",
    "    \n",
    "  for i in range(min(boxes.shape[0], max_boxes)):\n",
    "    if scores[i] >= min_score:\n",
    "      \n",
    "      object_name = \"{}: {}%\".format(class_names[i].decode(\"ascii\"),\n",
    "                                     int(100 * scores[i]))\n",
    "    \n",
    "  return image"
   ]
  },
  {
   "cell_type": "code",
   "execution_count": 41,
   "metadata": {},
   "outputs": [],
   "source": [
    "def see_results(results, max_objects, min_score):\n",
    "    objects = []\n",
    "\n",
    "    entities = result[\"detection_class_entities\"]\n",
    "    scores = result[\"detection_scores\"]\n",
    "\n",
    "    for i in range(min(entities.shape[0],max_objects)):\n",
    "        if scores[i] >= min_score:\n",
    "            x = (entities[i].decode(\"ascii\"), int(100 * scores[i]))\n",
    "            objects.append(x)\n",
    "\n",
    "    return objects\n"
   ]
  },
  {
   "cell_type": "code",
   "execution_count": 42,
   "metadata": {},
   "outputs": [
    {
     "data": {
      "text/plain": [
       "[('Person', 0), ('Person', 0), ('Person', 0), ('Man', 0)]"
      ]
     },
     "execution_count": 42,
     "metadata": {},
     "output_type": "execute_result"
    }
   ],
   "source": [
    "see_results(result, 10, 1e-15)"
   ]
  },
  {
   "cell_type": "code",
   "execution_count": 23,
   "metadata": {},
   "outputs": [
    {
     "name": "stderr",
     "output_type": "stream",
     "text": [
      "WARNING:matplotlib.image:Clipping input data to the valid range for imshow with RGB data ([0..1] for floats or [0..255] for integers).\n"
     ]
    },
    {
     "data": {
      "image/png": "[encoded data removed]",
      "text/plain": [
       "<Figure size 2000x1500 with 1 Axes>"
      ]
     },
     "metadata": {},
     "output_type": "display_data"
    }
   ],
   "source": [
    "display_image(imgs[img_nr])"
   ]
  },
  {
   "cell_type": "code",
   "execution_count": null,
   "metadata": {},
   "outputs": [],
   "source": [
    "#NOT RELEVANT RIGHT NOW\n",
    "# Get the output tensors\n",
    "output_details = interpreter.get_output_details()\n",
    "boxes = interpreter.get_tensor(output_details[0]['index'])\n",
    "classes = interpreter.get_tensor(output_details[1]['index'])\n",
    "scores = interpreter.get_tensor(output_details[2]['index'])\n",
    "num_detections = int(output_details[3]['index'][0])"
   ]
  },
  {
   "cell_type": "code",
   "execution_count": null,
   "metadata": {},
   "outputs": [],
   "source": [
    "#NOT RELEVANT RIGHT NOW\n",
    "# Filter out detections with low confidence\n",
    "threshold = 0.5\n",
    "detections = []\n",
    "for i in range(num_detections):\n",
    "    if scores[0][i] > threshold:\n",
    "        class_id = int(classes[0][i])\n",
    "        class_name = label_map[class_id]\n",
    "        box = boxes[0][i]\n",
    "        detection = {\n",
    "            'class': class_name,\n",
    "            'score': float(scores[0][i]),\n",
    "            'box': [float(box[0]), float(box[1]), float(box[2]), float(box[3])]\n",
    "        }\n",
    "        detections.append(detection)"
   ]
  }
 ],
 "metadata": {
  "kernelspec": {
   "display_name": "Python 3",
   "language": "python",
   "name": "python3"
  },
  "language_info": {
   "codemirror_mode": {
    "name": "ipython",
    "version": 3
   },
   "file_extension": ".py",
   "mimetype": "text/x-python",
   "name": "python",
   "nbconvert_exporter": "python",
   "pygments_lexer": "ipython3",
   "version": "3.11.0"
  },
  "orig_nbformat": 4
 },
 "nbformat": 4,
 "nbformat_minor": 2
}
