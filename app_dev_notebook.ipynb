{
 "cells": [
  {
   "cell_type": "code",
   "execution_count": 4,
   "metadata": {},
   "outputs": [],
   "source": [
    "from PIL import Image\n",
    "from PIL import ImageDraw\n",
    "import os\n",
    "import detect\n",
    "import tflite as tf\n",
    "import platform\n",
    "import datetime\n",
    "import cv2\n",
    "import time\n",
    "import numpy as np\n",
    "import io\n",
    "from io import BytesIO\n",
    "from flask import Flask, request, Response, jsonify\n",
    "import random\n",
    "import re\n",
    "import base64"
   ]
  },
  {
   "cell_type": "code",
   "execution_count": 3,
   "metadata": {},
   "outputs": [
    {
     "name": "stdout",
     "output_type": "stream",
     "text": [
      "Requirement already satisfied: tflite in c:\\python311\\lib\\site-packages (2.10.0)\n",
      "Requirement already satisfied: flatbuffers in c:\\python311\\lib\\site-packages (from tflite) (23.5.26)\n",
      "Requirement already satisfied: numpy in c:\\python311\\lib\\site-packages (from tflite) (1.23.5)\n",
      "Note: you may need to restart the kernel to use updated packages.\n"
     ]
    }
   ],
   "source": [
    "%pip install tflite"
   ]
  },
  {
   "cell_type": "code",
   "execution_count": 5,
   "metadata": {},
   "outputs": [
    {
     "name": "stdout",
     "output_type": "stream",
     "text": [
      "296\n"
     ]
    }
   ],
   "source": [
    "folder_path = r'C:\\Users\\maxsc\\Desktop\\TU\\DIC3\\Pictures_small'\n",
    "images_s = []\n",
    "\n",
    "# Iterate over each file in the folder\n",
    "for filename in os.listdir(folder_path):\n",
    "    # Construct the full file path\n",
    "    file_path = os.path.join(folder_path, filename)\n",
    "\n",
    "    # Check if the file is a JPEG image\n",
    "    if os.path.isfile(file_path) and filename.lower().endswith(\".jpg\"):\n",
    "        with open(file_path, \"rb\") as file:\n",
    "            # Read the image data\n",
    "            image_data = file.read()\n",
    "\n",
    "            # Encode the image data as base64\n",
    "            encoded_data = base64.b64encode(image_data).decode(\"utf-8\")\n",
    "\n",
    "            # Append the encoded string to the list\n",
    "            images_s.append(encoded_data)\n",
    "\n",
    "print(len(images_s))\n"
   ]
  },
  {
   "cell_type": "code",
   "execution_count": 6,
   "metadata": {},
   "outputs": [],
   "source": [
    "#Preprocess an image\n",
    "\n",
    "\n",
    "example = images_s[25]\n",
    "image_bytes = base64.b64decode(example)\n",
    "image = Image.open(io.BytesIO(image_bytes))\n",
    "image = image.resize((300, 300))  # Resize to match the model's input size\n",
    "image_np = np.array(image)  # Convert PIL image to NumPy array\n",
    "image_np_expanded = np.expand_dims(image_np, axis=0)\n",
    "\n"
   ]
  },
  {
   "cell_type": "code",
   "execution_count": 7,
   "metadata": {},
   "outputs": [
    {
     "ename": "AttributeError",
     "evalue": "module 'tflite' has no attribute 'Interpreter'",
     "output_type": "error",
     "traceback": [
      "\u001b[1;31m---------------------------------------------------------------------------\u001b[0m",
      "\u001b[1;31mAttributeError\u001b[0m                            Traceback (most recent call last)",
      "Cell \u001b[1;32mIn[7], line 4\u001b[0m\n\u001b[0;32m      1\u001b[0m \u001b[39m#Train interpreter model NOT READY\u001b[39;00m\n\u001b[0;32m      3\u001b[0m module_path \u001b[39m=\u001b[39m \u001b[39mr\u001b[39m\u001b[39m\"\u001b[39m\u001b[39mC:\u001b[39m\u001b[39m\\\u001b[39m\u001b[39mUsers\u001b[39m\u001b[39m\\\u001b[39m\u001b[39mmaxsc\u001b[39m\u001b[39m\\\u001b[39m\u001b[39mDesktop\u001b[39m\u001b[39m\\\u001b[39m\u001b[39mTU\u001b[39m\u001b[39m\\\u001b[39m\u001b[39mDIC3\u001b[39m\u001b[39m\\\u001b[39m\u001b[39mlite-model_ssd_mobilenet_v2_100_fp32_default_1.tflite\u001b[39m\u001b[39m\"\u001b[39m\n\u001b[1;32m----> 4\u001b[0m interpreter \u001b[39m=\u001b[39m tf\u001b[39m.\u001b[39;49mInterpreter(model_path\u001b[39m=\u001b[39mmodel_path)\n\u001b[0;32m      5\u001b[0m interpreter\u001b[39m.\u001b[39mallocate_tensors()\n\u001b[0;32m      7\u001b[0m \u001b[39m#Example image\u001b[39;00m\n",
      "\u001b[1;31mAttributeError\u001b[0m: module 'tflite' has no attribute 'Interpreter'"
     ]
    }
   ],
   "source": [
    "#Train interpreter model NOT READY\n",
    "\n",
    "module_path = r\"C:\\Users\\maxsc\\Desktop\\TU\\DIC3\\lite-model_ssd_mobilenet_v2_100_fp32_default_1.tflite\"\n",
    "interpreter = tf.Interpreter(model_path=model_path)\n",
    "interpreter.allocate_tensors()\n",
    "\n",
    "#Example image\n",
    "input_tensor = interpreter.get_input_details()[0]['index']\n",
    "interpreter.set_tensor(input_tensor, image_np_expanded)\n",
    "\n",
    "interpreter.invoke()\n"
   ]
  },
  {
   "cell_type": "code",
   "execution_count": null,
   "metadata": {},
   "outputs": [],
   "source": [
    "\n",
    "# Get the output tensors\n",
    "output_details = interpreter.get_output_details()\n",
    "boxes = interpreter.get_tensor(output_details[0]['index'])\n",
    "classes = interpreter.get_tensor(output_details[1]['index'])\n",
    "scores = interpreter.get_tensor(output_details[2]['index'])\n",
    "num_detections = int(output_details[3]['index'][0])"
   ]
  },
  {
   "cell_type": "code",
   "execution_count": null,
   "metadata": {},
   "outputs": [],
   "source": [
    "# Filter out detections with low confidence\n",
    "threshold = 0.5\n",
    "detections = []\n",
    "for i in range(num_detections):\n",
    "    if scores[0][i] > threshold:\n",
    "        class_id = int(classes[0][i])\n",
    "        class_name = label_map[class_id]\n",
    "        box = boxes[0][i]\n",
    "        detection = {\n",
    "            'class': class_name,\n",
    "            'score': float(scores[0][i]),\n",
    "            'box': [float(box[0]), float(box[1]), float(box[2]), float(box[3])]\n",
    "        }\n",
    "        detections.append(detection)"
   ]
  },
  {
   "cell_type": "code",
   "execution_count": 32,
   "metadata": {},
   "outputs": [],
   "source": []
  },
  {
   "cell_type": "code",
   "execution_count": null,
   "metadata": {},
   "outputs": [],
   "source": []
  }
 ],
 "metadata": {
  "kernelspec": {
   "display_name": "Python 3",
   "language": "python",
   "name": "python3"
  },
  "language_info": {
   "codemirror_mode": {
    "name": "ipython",
    "version": 3
   },
   "file_extension": ".py",
   "mimetype": "text/x-python",
   "name": "python",
   "nbconvert_exporter": "python",
   "pygments_lexer": "ipython3",
   "version": "3.11.0"
  },
  "orig_nbformat": 4
 },
 "nbformat": 4,
 "nbformat_minor": 2
}
